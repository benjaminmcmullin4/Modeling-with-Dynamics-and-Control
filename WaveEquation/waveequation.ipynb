{
 "cells": [
  {
   "cell_type": "markdown",
   "metadata": {
    "collapsed": true
   },
   "source": [
    "# Volume 4: Wave Equation\n",
    "    Benj McMullin\n",
    "    Math 437\n",
    "    11/30/2023"
   ]
  },
  {
   "cell_type": "code",
   "execution_count": 20,
   "metadata": {},
   "outputs": [],
   "source": [
    "import numpy as np\n",
    "import matplotlib.pyplot as plt\n",
    "from matplotlib import animation as ani\n",
    "from scipy.linalg import toeplitz\n",
    "import scipy.optimize\n",
    "from scipy.optimize import fsolve"
   ]
  },
  {
   "cell_type": "code",
   "execution_count": 2,
   "metadata": {},
   "outputs": [],
   "source": [
    "def wave_solver(x, t, s, f, g):\n",
    "    '''\n",
    "    This Function solves the wave equation u_tt = u_xx for x in [0, 1] and t in [0, T]\n",
    "    with boundary conditions u(0, t) = u(1, t) = 0 and initial conditions u(x, 0) = f(x) and u_t(x, 0) = g(x)\n",
    "    using the finite difference method.\n",
    "    The function returns a matrix U of size (len(t), len(x)) where U[i][j] is the value of u(x[j], t[i]).\n",
    "    '''\n",
    "\n",
    "    # x: array of x values\n",
    "    dx = x[1] - x[0]\n",
    "    dt = t[1] - t[0]\n",
    "    lam = s * dt / dx\n",
    "    N = len(x)\n",
    "\n",
    "    # create A\n",
    "    diag_1 = np.ones(N) * 2 * (1 - lam ** 2)\n",
    "    diag_2 = np.ones(N - 1) * lam ** 2\n",
    "    A = np.diag(diag_1) + np.diag(diag_2, k = 1) + np.diag(diag_2, k = -1)\n",
    "\n",
    "    # create U\n",
    "    U0 = f(x)\n",
    "    U1 = U0 + dt * g(x) + 0.5 * lam ** 2 * (np.roll(U0, -1) - 2 * U0 + np.roll(U0, 1))\n",
    "    U = np.zeros((len(t), N))\n",
    "    U[0] = U0\n",
    "    U[1] = U1\n",
    "\n",
    "    # solve for U\n",
    "    for i in range(2, len(t)):\n",
    "        a = A @ U[i - 1]\n",
    "        b = U[i - 2]\n",
    "        U[i][1: -1] = a[1: -1] - b[1: -1]\n",
    "        U[i][0] = 0\n",
    "        U[i][-1] = 0\n",
    "    \n",
    "    return U"
   ]
  },
  {
   "cell_type": "code",
   "execution_count": 12,
   "metadata": {},
   "outputs": [],
   "source": [
    "def animate(x, u, title, ylim=None):\n",
    "    '''\n",
    "    This function animates the solution to the wave equation.\n",
    "    '''\n",
    "\n",
    "    # create figure\n",
    "    figure = plt.figure()\n",
    "    plt.ioff()\n",
    "    ax1 = figure.add_subplot(1, 1, 1)\n",
    "\n",
    "    # set up axes\n",
    "    ax1.set_xlim([x[0], x[-1]])\n",
    "    if ylim:\n",
    "        ax1.set_ylim(ylim)\n",
    "    else:\n",
    "        ax1.set_ylim((min(min(r) for r in u) * 1.25, max(max(r) for r in u) * 1.25))\n",
    "    ax1.set_xlabel('x')\n",
    "    ax1.set_ylabel('u(x,t)')\n",
    "    ax1.set_title(title)\n",
    "\n",
    "    # create line\n",
    "    line, = ax1.plot([], [], lw = 2)\n",
    "    def update(i):\n",
    "        line.set_data(x, u[i])\n",
    "        return line,\n",
    "\n",
    "    plt.ioff()\n",
    "    ani = animation.FuncAnimation(figure, update, frames = range(u.shape[0]), interval = 25, repeat = True)\n",
    "    ani.save(f'{title}.mp4')"
   ]
  },
  {
   "cell_type": "markdown",
   "metadata": {},
   "source": [
    "# Problem 1\n",
    "Numerically approximate the solution to the following BVP\n",
    "\n",
    "$$\n",
    "u_{tt} = u_{xx} \\\\\n",
    "u(0,t) = u(1,t) = 0, \\\\\n",
    "u(x,0) = \\sin(2\\pi x), \\\\\n",
    "u_t(x,0) = 0. \n",
    "$$\n",
    "\n",
    "Numerically approximate the solution $u(x,t)$ for $t\\in[0,0.5]$. Use $J=50$ subintervals in the $x$ dimension and $M=50$ subintervals in the $t$ dimension. Animate the results. Compare you results with the analytic solution $u(x,t) = \\sin(2\\pi x)\\cos(2\\pi t).$ This function is know as a standing wave."
   ]
  },
  {
   "cell_type": "code",
   "execution_count": 13,
   "metadata": {
    "collapsed": true
   },
   "outputs": [],
   "source": [
    "# Initalize variables x and t which are arrays of x and t values\n",
    "x = np.linspace(0, 1, 51)\n",
    "t = np.linspace(0, 0.5, 51)\n",
    "\n",
    "# Create functions f, g, and s\n",
    "f = lambda x: np.sin(2 * np.pi * x)\n",
    "g = lambda x: np.zeros_like(x)\n",
    "s = 1\n",
    "\n",
    "# Solve the wave equation and animate the solution\n",
    "u = wave_solver(x, t, s, f, g)\n",
    "animate(x, u, 'Problem 1')"
   ]
  },
  {
   "cell_type": "markdown",
   "metadata": {},
   "source": [
    "# Problem 2\n",
    "\n",
    "Consider the boundary value problem \n",
    "\n",
    "$$\n",
    "u_{tt} = u_{xx}, \\\\\n",
    "u(0,t) = u(1,t) = 0, \\\\\n",
    "u(x,0) = 0.2e^{-m^2(x-1/2)^2} \\\\\n",
    "y_t(x,0) = 0.4m^2(x-\\frac{1}{2})e^{-m^2(x-1/2)^2}.\n",
    "$$\n",
    "\n",
    "The solution of this problem is ta Gaussian pulse. It travels to the right at a constant speed. This solution models, for example, a wave pulse in a stretched string. Note that the fixed boundart conditions reflect the pulse back when it meets the boundary.\n",
    "\n",
    "Numerically approximate the solution $u(x,t)$ for $t\\in[0,1]$. Set $m=20$. Use 200 subintervals in space and 220 in time, and animate your results. Then use 200 subintervals in space and 180 in time, and animate your results. Note that the stability condition is not satisfied for the second mesh."
   ]
  },
  {
   "cell_type": "code",
   "execution_count": 14,
   "metadata": {
    "collapsed": true
   },
   "outputs": [],
   "source": [
    "# Initalize variables x and t which are arrays of x and t values\n",
    "x = np.linspace(0, 1, 201)\n",
    "t = np.linspace(0, 1, 221)\n",
    "m = 20\n",
    "\n",
    "# Create functions f, g, and s\n",
    "f = lambda x: 0.2 * np.exp(-m ** 2 * (x - 0.5) ** 2)\n",
    "g = lambda x: 0.4 * m ** 2 * (x - 0.5) * np.exp(-m ** 2 * (x - 0.5) ** 2)\n",
    "\n",
    "# Solve the wave equation and animate the solution\n",
    "u = wave_solver(x, t, s, f, g)\n",
    "animate(x, u, 'Problem 2a', ylim = (-0.5, 0.5))"
   ]
  },
  {
   "cell_type": "code",
   "execution_count": 15,
   "metadata": {},
   "outputs": [],
   "source": [
    "# Initalize variables x and t which are arrays of x and t values\n",
    "x = np.linspace(0, 1, 201)\n",
    "t = np.linspace(0, 1, 181)\n",
    "m = 20\n",
    "\n",
    "# Create functions f, g, and s\n",
    "f = lambda x: 0.2 * np.exp(-m ** 2 * (x - 0.5) ** 2)\n",
    "g = lambda x: 0.4 * m ** 2 * (x - 0.5) * np.exp(-m ** 2 * (x - 0.5) ** 2)\n",
    "\n",
    "# Solve the wave equation and animate the solution\n",
    "u = wave_solver(x, t, s, f, g)\n",
    "animate(x, u, 'Problem 2b', ylim = (-1, 1))"
   ]
  },
  {
   "cell_type": "markdown",
   "metadata": {},
   "source": [
    "# Problem 3\n",
    "\n",
    "Consider the initial boundary value problem\n",
    "$$\n",
    "\tu_{tt} = u_{xx}, \\\\\n",
    "\tu(0,t) = u(1,t) = 0, \\\\\n",
    "\tu(x,0) = 0.2e^{-m^2(x-1/2)^2}\\\\\n",
    "\tu_t(x,0) = 0.\n",
    "$$\n",
    "The initial condition separates into two smaller, slower-moving pulses, one travelling to the right and the other to the left.\n",
    "This solution models, for example, a plucked guitar string\n",
    "\n",
    "Numerically approximate the solution $u(x,t)$ for $t \\in \\left[0,2\\right]$.\n",
    "Set $m=20$.\n",
    "Use 200 subintervals in space and 440 in time, and animate your results.\n",
    "It is rather easy to see that the solution to this problem is the sum of two travelling waves, one travelling to the left and the other to the right, as described earlier."
   ]
  },
  {
   "cell_type": "code",
   "execution_count": 16,
   "metadata": {
    "collapsed": true
   },
   "outputs": [],
   "source": [
    "# Initalize variables x and t which are arrays of x and t values\n",
    "x = np.linspace(0, 1, 201)\n",
    "t = np.linspace(0, 2, 441)\n",
    "m = 20\n",
    "\n",
    "# Create functions f, g, and s\n",
    "f = lambda x: 0.2 * np.exp(-m ** 2 * (x - 0.5) ** 2)\n",
    "g = lambda x: np.zeros_like(x)\n",
    "\n",
    "u = wave_solver(x, t, s, f, g)\n",
    "animate(x, u, 'Problem 3', ylim = (-0.5, 0.5))"
   ]
  },
  {
   "cell_type": "markdown",
   "metadata": {},
   "source": [
    "# Problem 4\n",
    "\n",
    "Consider the initial boundary value problem\n",
    "\n",
    "$$\n",
    "\tu_{tt} = u_{xx}, \\\\\n",
    "\tu(0,t) = u(1,t) = 0, \\\\\n",
    "\tu(x,0) = \\begin{cases} 1/3 & \\text{if } 5/11 < x < 6/11,\\\\\n",
    "\t0 & \\text{otherwise}\n",
    "\t\\end{cases}\\\\\n",
    "\tu_t(x,0) = 0.\n",
    "$$\n",
    "\n",
    "Numerically approximate the solution $u(x,t)$ for $t \\in \\left[0, 2\\right]$.\n",
    "Use 200 subintervals in space and 440 in time, and animate your results.\n",
    "Even though the method is second order and stable for this discretization, since the initial condition is discontinuous there are large dispersive errors."
   ]
  },
  {
   "cell_type": "code",
   "execution_count": 17,
   "metadata": {},
   "outputs": [],
   "source": [
    "# Initalize variables x and t which are arrays of x and t values\n",
    "x = np.linspace(0, 1, 201)\n",
    "t = np.linspace(0, 1, 441)\n",
    "\n",
    "# Create functions f, g, and s\n",
    "f = lambda x: np.where((x > 5 / 11) & (x < 6 / 11), 1 / 3, 0)\n",
    "g = lambda x: np.zeros_like(x)\n",
    "\n",
    "# Solve the wave equation and animate the solution\n",
    "u = wave_solver(x, t, s, f, g)\n",
    "animate(x, u, 'Problem 4', ylim = (-0.5, 0.5))"
   ]
  },
  {
   "cell_type": "markdown",
   "metadata": {},
   "source": [
    "# Problem 5\n",
    "\n",
    "\n",
    "Numerically solve the initial value problem\n",
    "\n",
    "$$\n",
    "\tu_t -su_x + uu_x = u_{xx}, \\quad x \\in (-\\infty,\\infty),\\\\\n",
    "\tu(x,0) = v(x),\n",
    "$$\n",
    "\n",
    "for $t \\in [0,1]$.\n",
    "Let the perturbation $v(x)$ be given by\n",
    "\n",
    "$$\n",
    "v(x) = 3.5(\\sin{(3x)} + 1)\\frac{1}{\\sqrt{2\\pi}} \\exp{(-x^2/2)}\n",
    "$$\n",
    "\n",
    "And let the initial condition be $u(x, 0) = \\hat{u}(x) + v(x)$\n",
    "Approximate the $x$ domain,$(-\\infty, \\infty)$, numerically by the finite interval $[-20,20]$, and fix $u(-20) = u_-$, $u(20) = u_+$. Let $u_- = 5$, $u_+ = 1$.\n",
    "Use 150 intervals in space and 350 steps in time.\n",
    "Animate your results.\n",
    "You should see the solution converge to a translate of the travelling wave $\\hat{u}$.\n",
    "\n",
    "Hint: This difference scheme is no longer a linear equation.\n",
    "We have a nonlinear equation in $U^{n+1}$.\n",
    "We can still solve this function using Newton's method or some other similar solver.\n",
    "In this case, use `scipy.optimize.fsolve`."
   ]
  },
  {
   "cell_type": "code",
   "execution_count": 26,
   "metadata": {
    "collapsed": true
   },
   "outputs": [],
   "source": [
    "def solve_burgers(x, t, f, u_minus, u_plus):\n",
    "    \"\"\"\n",
    "    This function solves the Burgers' equation u_t + uu_x = 0 for x in [0, 1] and t in [0, T]\n",
    "    with boundary conditions u(0, t) = u_minus and u(1, t) = u_plus and initial condition u(x, 0) = f(x)\n",
    "    using the finite difference method.\n",
    "    The function returns a matrix U of size (len(t), len(x)) where U[i][j] is the value of u(x[j], t[i]).\n",
    "    \"\"\"\n",
    "    # Create variables and constants\n",
    "    dx = x[1] - x[0]\n",
    "    dt = t[1] - t[0]\n",
    "    k1 = dt / 4 / dx\n",
    "    k2 = dt / 2 / dx ** 2\n",
    "    s = (u_minus + u_plus) / 2\n",
    "\n",
    "    # create U\n",
    "    U = np.zeros((len(x), len(t)))\n",
    "    U[:, 0] = f(x)\n",
    "    U[0, 0], U[0, -1] = u_minus, u_plus\n",
    "\n",
    "    # solve for U\n",
    "    def crank(u1, u0, s, k1, k2):\n",
    "\n",
    "        col = u1.shape[-1]\n",
    "        result = [u1[i] - u0[i] - k1 * ((s - u1[i]) * (u1[i + 1] - u1[i - 1]) + (s - u0[i]) * (u0[i + 1] - u0[i - 1])) - \\\n",
    "                    k2 * ((u1[i + 1] - 2 * u1[i] + u1[i - 1]) + (u0[i + 1] - 2 * u0[i] + u0[i - 1])) for i in range(1, col - 1)]\n",
    "        return [u1[0] - u0[0]] + result + [u1[-1] - u0[-1]]\n",
    "    \n",
    "    # solve for U    \n",
    "    for i in range(1, U.shape[0] - 1):\n",
    "        U[:, i] = fsolve(crank, U[:, 0], args = (U[:, i - 1], s, k1, k2))\n",
    "    \n",
    "    return U"
   ]
  },
  {
   "cell_type": "code",
   "execution_count": 27,
   "metadata": {},
   "outputs": [],
   "source": [
    "# Initalize variables x and t which are arrays of x and t values\n",
    "x = np.linspace(-20, 20, 151)\n",
    "t = np.linspace(0, 1, 351)\n",
    "\n",
    "# Create functions f, g, and s\n",
    "nu = 1\n",
    "Δ = 0\n",
    "minus_u = 5\n",
    "plus_u = 1\n",
    "a = (minus_u - plus_u) / 2\n",
    "\n",
    "# Solve the wave equation and animate the solution\n",
    "u_hat = lambda x: s - a * np.tanh(a * x / (2 * nu) + Δ)\n",
    "v = lambda x: 3.5 * (np.sin(3 * x) + 1) * np.exp(-x ** 2 / 2) / np.sqrt(2 * np.pi)\n",
    "f = lambda x: u_hat(x) + v(x)\n",
    "\n",
    "u = solve_burgers(x, t, f, minus_u, plus_u)"
   ]
  },
  {
   "cell_type": "code",
   "execution_count": 28,
   "metadata": {},
   "outputs": [],
   "source": [
    "# In this cell we create the animation for problem 5\n",
    "\n",
    "# Create figure\n",
    "figure = plt.figure()\n",
    "wave, = plt.plot([], [], lw = 2)\n",
    "plt.xlim([x[0], x[-1]])\n",
    "plt.ylim((-1, 6))\n",
    "plt.xlabel('x')\n",
    "plt.ylabel('u(x,t)')\n",
    "plt.title('Problem 5')\n",
    "\n",
    "# Create animation using the update function\n",
    "def update(i):\n",
    "    wave.set_data(x, u[:, i])\n",
    "    return wave,\n",
    "\n",
    "# Save animation\n",
    "ani = animation.FuncAnimation(figure, update, frames = range(len(u)), interval = 25, repeat = True)\n",
    "ani.save(f'problem5.mp4')"
   ]
  },
  {
   "cell_type": "code",
   "execution_count": null,
   "metadata": {},
   "outputs": [],
   "source": []
  }
 ],
 "metadata": {
  "kernelspec": {
   "display_name": "Python 3 (ipykernel)",
   "language": "python",
   "name": "python3"
  },
  "language_info": {
   "codemirror_mode": {
    "name": "ipython",
    "version": 3
   },
   "file_extension": ".py",
   "mimetype": "text/x-python",
   "name": "python",
   "nbconvert_exporter": "python",
   "pygments_lexer": "ipython3",
   "version": "3.10.8"
  }
 },
 "nbformat": 4,
 "nbformat_minor": 1
}
